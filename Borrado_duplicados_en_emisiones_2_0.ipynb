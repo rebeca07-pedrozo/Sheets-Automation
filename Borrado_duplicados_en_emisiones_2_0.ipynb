{
  "cells": [
    {
      "cell_type": "markdown",
      "metadata": {
        "colab_type": "text",
        "id": "view-in-github"
      },
      "source": [
        "<a href=\"https://colab.research.google.com/github/rebeca07-pedrozo/Sheets-Automation/blob/main/Borrado_duplicados_en_emisiones_2_0.ipynb\" target=\"_parent\"><img src=\"https://colab.research.google.com/assets/colab-badge.svg\" alt=\"Open In Colab\"/></a>"
      ]
    },
    {
      "cell_type": "code",
      "execution_count": 2,
      "metadata": {
        "id": "N2mFpatXE_2F"
      },
      "outputs": [],
      "source": [
        "import pandas as pd\n",
        "import numpy as np"
      ]
    },
    {
      "cell_type": "code",
      "execution_count": 75,
      "metadata": {
        "id": "tXU25DYRFkAK"
      },
      "outputs": [],
      "source": [
        "emisiones = pd.read_csv('/content/Ventas3Agosto.csv')"
      ]
    },
    {
      "cell_type": "code",
      "execution_count": null,
      "metadata": {
        "colab": {
          "base_uri": "https://localhost:8080/",
          "height": 492
        },
        "id": "QedcuMII9GEy",
        "outputId": "84778c05-ecc8-4afe-9156-e460f89f3962"
      },
      "outputs": [
        {
          "data": {
            "text/html": [
              "<div>\n",
              "<style scoped>\n",
              "    .dataframe tbody tr th:only-of-type {\n",
              "        vertical-align: middle;\n",
              "    }\n",
              "\n",
              "    .dataframe tbody tr th {\n",
              "        vertical-align: top;\n",
              "    }\n",
              "\n",
              "    .dataframe thead th {\n",
              "        text-align: right;\n",
              "    }\n",
              "</style>\n",
              "<table border=\"1\" class=\"dataframe\">\n",
              "  <thead>\n",
              "    <tr style=\"text-align: right;\">\n",
              "      <th></th>\n",
              "      <th>0</th>\n",
              "    </tr>\n",
              "  </thead>\n",
              "  <tbody>\n",
              "    <tr>\n",
              "      <th>clave_agente</th>\n",
              "      <td>int64</td>\n",
              "    </tr>\n",
              "    <tr>\n",
              "      <th>numero_poliza</th>\n",
              "      <td>int64</td>\n",
              "    </tr>\n",
              "    <tr>\n",
              "      <th>codigo_producto</th>\n",
              "      <td>int64</td>\n",
              "    </tr>\n",
              "    <tr>\n",
              "      <th>fecha_emision</th>\n",
              "      <td>object</td>\n",
              "    </tr>\n",
              "    <tr>\n",
              "      <th>nombre_producto</th>\n",
              "      <td>object</td>\n",
              "    </tr>\n",
              "    <tr>\n",
              "      <th>nombre_opcion_poliza</th>\n",
              "      <td>object</td>\n",
              "    </tr>\n",
              "    <tr>\n",
              "      <th>prima</th>\n",
              "      <td>float64</td>\n",
              "    </tr>\n",
              "    <tr>\n",
              "      <th>tipo_documento</th>\n",
              "      <td>object</td>\n",
              "    </tr>\n",
              "    <tr>\n",
              "      <th>NUMERO_DOCUMENTO</th>\n",
              "      <td>int64</td>\n",
              "    </tr>\n",
              "    <tr>\n",
              "      <th>NOMBRE</th>\n",
              "      <td>object</td>\n",
              "    </tr>\n",
              "    <tr>\n",
              "      <th>CORREO_1</th>\n",
              "      <td>object</td>\n",
              "    </tr>\n",
              "    <tr>\n",
              "      <th>CELULAR_1</th>\n",
              "      <td>float64</td>\n",
              "    </tr>\n",
              "    <tr>\n",
              "      <th>FECHA_PROCESO</th>\n",
              "      <td>object</td>\n",
              "    </tr>\n",
              "  </tbody>\n",
              "</table>\n",
              "</div><br><label><b>dtype:</b> object</label>"
            ],
            "text/plain": [
              "clave_agente              int64\n",
              "numero_poliza             int64\n",
              "codigo_producto           int64\n",
              "fecha_emision            object\n",
              "nombre_producto          object\n",
              "nombre_opcion_poliza     object\n",
              "prima                   float64\n",
              "tipo_documento           object\n",
              "NUMERO_DOCUMENTO          int64\n",
              "NOMBRE                   object\n",
              "CORREO_1                 object\n",
              "CELULAR_1               float64\n",
              "FECHA_PROCESO            object\n",
              "dtype: object"
            ]
          },
          "execution_count": 89,
          "metadata": {},
          "output_type": "execute_result"
        }
      ],
      "source": [
        "emisiones.dtypes"
      ]
    },
    {
      "cell_type": "code",
      "execution_count": 85,
      "metadata": {
        "id": "zl5_EMrf86ab"
      },
      "outputs": [],
      "source": [
        "emisiones['prima'] = pd.to_numeric(emisiones['prima'], errors='coerce')\n"
      ]
    },
    {
      "cell_type": "code",
      "execution_count": 86,
      "metadata": {
        "id": "Hqjh8ROC0HuY"
      },
      "outputs": [],
      "source": [
        "agrupado = emisiones.groupby('numero_poliza').agg({\n",
        "    'clave_agente': 'first',\n",
        "    'codigo_producto': 'first',\n",
        "    'fecha_emision': 'first',\n",
        "    'nombre_producto': 'first',\n",
        "    'nombre_opcion_poliza': 'first',\n",
        "    'prima': 'sum',\n",
        "    'tipo_documento': 'first',\n",
        "    'FECHA_PROCESO': 'first',\n",
        "    # Los de abajo los vamos a procesar diferente\n",
        "    'NUMERO_DOCUMENTO': lambda x: list(pd.unique(x)),\n",
        "    'NOMBRE': lambda x: list(pd.unique(x)),\n",
        "    'CORREO_1': lambda x: list(pd.unique(x)),\n",
        "    'CELULAR_1': lambda x: list(pd.unique(x)),\n",
        "}).reset_index()"
      ]
    },
    {
      "cell_type": "code",
      "execution_count": 87,
      "metadata": {
        "id": "UI8_8ppD0JYf"
      },
      "outputs": [],
      "source": [
        "def expandir_columnas(emisiones, columna_base, prefijo):\n",
        "    max_items = emisiones[columna_base].apply(len).max()\n",
        "    nuevas_col = pd.DataFrame(emisiones[columna_base].tolist(), columns=[f\"{prefijo}_{i+1}\" for i in range(max_items)])\n",
        "    return pd.concat([emisiones.drop(columns=[columna_base]), nuevas_col], axis=1)\n",
        "\n",
        "agrupado = expandir_columnas(agrupado, 'NUMERO_DOCUMENTO', 'NUMERO_DOCUMENTO')\n",
        "agrupado = expandir_columnas(agrupado, 'NOMBRE', 'NOMBRE')\n",
        "agrupado = expandir_columnas(agrupado, 'CORREO_1', 'CORREO')\n",
        "agrupado = expandir_columnas(agrupado, 'CELULAR_1', 'CELULAR')"
      ]
    },
    {
      "cell_type": "code",
      "execution_count": 92,
      "metadata": {
        "colab": {
          "base_uri": "https://localhost:8080/",
          "height": 868
        },
        "id": "GLOe7eMp9JPQ",
        "outputId": "b6fc19a3-b607-4f83-d548-737acda35b1c"
      },
      "outputs": [
        {
          "data": {
            "text/html": [
              "<div>\n",
              "<style scoped>\n",
              "    .dataframe tbody tr th:only-of-type {\n",
              "        vertical-align: middle;\n",
              "    }\n",
              "\n",
              "    .dataframe tbody tr th {\n",
              "        vertical-align: top;\n",
              "    }\n",
              "\n",
              "    .dataframe thead th {\n",
              "        text-align: right;\n",
              "    }\n",
              "</style>\n",
              "<table border=\"1\" class=\"dataframe\">\n",
              "  <thead>\n",
              "    <tr style=\"text-align: right;\">\n",
              "      <th></th>\n",
              "      <th>0</th>\n",
              "    </tr>\n",
              "  </thead>\n",
              "  <tbody>\n",
              "    <tr>\n",
              "      <th>numero_poliza</th>\n",
              "      <td>int64</td>\n",
              "    </tr>\n",
              "    <tr>\n",
              "      <th>clave_agente</th>\n",
              "      <td>int64</td>\n",
              "    </tr>\n",
              "    <tr>\n",
              "      <th>codigo_producto</th>\n",
              "      <td>int64</td>\n",
              "    </tr>\n",
              "    <tr>\n",
              "      <th>fecha_emision</th>\n",
              "      <td>object</td>\n",
              "    </tr>\n",
              "    <tr>\n",
              "      <th>nombre_producto</th>\n",
              "      <td>object</td>\n",
              "    </tr>\n",
              "    <tr>\n",
              "      <th>nombre_opcion_poliza</th>\n",
              "      <td>object</td>\n",
              "    </tr>\n",
              "    <tr>\n",
              "      <th>prima</th>\n",
              "      <td>float64</td>\n",
              "    </tr>\n",
              "    <tr>\n",
              "      <th>tipo_documento</th>\n",
              "      <td>object</td>\n",
              "    </tr>\n",
              "    <tr>\n",
              "      <th>FECHA_PROCESO</th>\n",
              "      <td>object</td>\n",
              "    </tr>\n",
              "    <tr>\n",
              "      <th>NUMERO_DOCUMENTO_1</th>\n",
              "      <td>int64</td>\n",
              "    </tr>\n",
              "    <tr>\n",
              "      <th>NUMERO_DOCUMENTO_2</th>\n",
              "      <td>float64</td>\n",
              "    </tr>\n",
              "    <tr>\n",
              "      <th>NUMERO_DOCUMENTO_3</th>\n",
              "      <td>float64</td>\n",
              "    </tr>\n",
              "    <tr>\n",
              "      <th>NUMERO_DOCUMENTO_4</th>\n",
              "      <td>float64</td>\n",
              "    </tr>\n",
              "    <tr>\n",
              "      <th>NOMBRE_1</th>\n",
              "      <td>object</td>\n",
              "    </tr>\n",
              "    <tr>\n",
              "      <th>NOMBRE_2</th>\n",
              "      <td>object</td>\n",
              "    </tr>\n",
              "    <tr>\n",
              "      <th>NOMBRE_3</th>\n",
              "      <td>object</td>\n",
              "    </tr>\n",
              "    <tr>\n",
              "      <th>NOMBRE_4</th>\n",
              "      <td>object</td>\n",
              "    </tr>\n",
              "    <tr>\n",
              "      <th>CORREO_1</th>\n",
              "      <td>object</td>\n",
              "    </tr>\n",
              "    <tr>\n",
              "      <th>CORREO_2</th>\n",
              "      <td>object</td>\n",
              "    </tr>\n",
              "    <tr>\n",
              "      <th>CORREO_3</th>\n",
              "      <td>object</td>\n",
              "    </tr>\n",
              "    <tr>\n",
              "      <th>CORREO_4</th>\n",
              "      <td>object</td>\n",
              "    </tr>\n",
              "    <tr>\n",
              "      <th>CELULAR_1</th>\n",
              "      <td>float64</td>\n",
              "    </tr>\n",
              "    <tr>\n",
              "      <th>CELULAR_2</th>\n",
              "      <td>float64</td>\n",
              "    </tr>\n",
              "    <tr>\n",
              "      <th>CELULAR_3</th>\n",
              "      <td>float64</td>\n",
              "    </tr>\n",
              "    <tr>\n",
              "      <th>CELULAR_4</th>\n",
              "      <td>float64</td>\n",
              "    </tr>\n",
              "  </tbody>\n",
              "</table>\n",
              "</div><br><label><b>dtype:</b> object</label>"
            ],
            "text/plain": [
              "numero_poliza             int64\n",
              "clave_agente              int64\n",
              "codigo_producto           int64\n",
              "fecha_emision            object\n",
              "nombre_producto          object\n",
              "nombre_opcion_poliza     object\n",
              "prima                   float64\n",
              "tipo_documento           object\n",
              "FECHA_PROCESO            object\n",
              "NUMERO_DOCUMENTO_1        int64\n",
              "NUMERO_DOCUMENTO_2      float64\n",
              "NUMERO_DOCUMENTO_3      float64\n",
              "NUMERO_DOCUMENTO_4      float64\n",
              "NOMBRE_1                 object\n",
              "NOMBRE_2                 object\n",
              "NOMBRE_3                 object\n",
              "NOMBRE_4                 object\n",
              "CORREO_1                 object\n",
              "CORREO_2                 object\n",
              "CORREO_3                 object\n",
              "CORREO_4                 object\n",
              "CELULAR_1               float64\n",
              "CELULAR_2               float64\n",
              "CELULAR_3               float64\n",
              "CELULAR_4               float64\n",
              "dtype: object"
            ]
          },
          "execution_count": 92,
          "metadata": {},
          "output_type": "execute_result"
        }
      ],
      "source": [
        "agrupado.dtypes\n"
      ]
    },
    {
      "cell_type": "code",
      "execution_count": 95,
      "metadata": {
        "id": "4Wf4ABwv9wlz"
      },
      "outputs": [],
      "source": [
        "agrupado['prima'] = agrupado['prima'].fillna(0).astype('int64')\n",
        "for col in agrupado.columns:\n",
        "    if agrupado[col].dtype == 'float64':\n",
        "        agrupado[col] = agrupado[col].fillna(0).astype('int64')"
      ]
    },
    {
      "cell_type": "code",
      "execution_count": 96,
      "metadata": {
        "id": "puwmVEWz0KnC"
      },
      "outputs": [],
      "source": [
        "agrupado.to_csv(\"emisionesAgrupadas.csv\", index=False)\n",
        "\n"
      ]
    }
  ],
  "metadata": {
    "colab": {
      "authorship_tag": "ABX9TyNpyG7Vj5amnkUn+Cs4rwqL",
      "include_colab_link": true,
      "provenance": []
    },
    "kernelspec": {
      "display_name": "Python 3",
      "name": "python3"
    },
    "language_info": {
      "name": "python"
    }
  },
  "nbformat": 4,
  "nbformat_minor": 0
}
